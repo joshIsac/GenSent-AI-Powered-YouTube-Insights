{
 "cells": [
  {
   "cell_type": "code",
   "execution_count": 1,
   "metadata": {},
   "outputs": [],
   "source": [
    "# Import necessary libraries\n",
    "import pandas as pd\n",
    "import torch\n",
    "from transformers import AutoTokenizer, AutoModelForSeq2SeqLM\n",
    "import numpy as np\n",
    "from sklearn.model_selection import train_test_split\n",
    "from sklearn.metrics import accuracy_score\n",
    "import torch.nn as nn\n",
    "import torch.optim as optim\n",
    "import string\n",
    "from imblearn.over_sampling import SMOTE"
   ]
  },
  {
   "cell_type": "code",
   "execution_count": 2,
   "metadata": {},
   "outputs": [
    {
     "data": {
      "text/html": [
       "<div>\n",
       "<style scoped>\n",
       "    .dataframe tbody tr th:only-of-type {\n",
       "        vertical-align: middle;\n",
       "    }\n",
       "\n",
       "    .dataframe tbody tr th {\n",
       "        vertical-align: top;\n",
       "    }\n",
       "\n",
       "    .dataframe thead th {\n",
       "        text-align: right;\n",
       "    }\n",
       "</style>\n",
       "<table border=\"1\" class=\"dataframe\">\n",
       "  <thead>\n",
       "    <tr style=\"text-align: right;\">\n",
       "      <th></th>\n",
       "      <th>Comment</th>\n",
       "      <th>Sentiment</th>\n",
       "    </tr>\n",
       "  </thead>\n",
       "  <tbody>\n",
       "    <tr>\n",
       "      <th>0</th>\n",
       "      <td>lets not forget that apple pay in 2014 require...</td>\n",
       "      <td>neutral</td>\n",
       "    </tr>\n",
       "    <tr>\n",
       "      <th>1</th>\n",
       "      <td>here in nz 50 of retailers don’t even have con...</td>\n",
       "      <td>negative</td>\n",
       "    </tr>\n",
       "    <tr>\n",
       "      <th>2</th>\n",
       "      <td>i will forever acknowledge this channel with t...</td>\n",
       "      <td>positive</td>\n",
       "    </tr>\n",
       "    <tr>\n",
       "      <th>3</th>\n",
       "      <td>whenever i go to a place that doesn’t take app...</td>\n",
       "      <td>negative</td>\n",
       "    </tr>\n",
       "    <tr>\n",
       "      <th>4</th>\n",
       "      <td>apple pay is so convenient secure and easy to ...</td>\n",
       "      <td>positive</td>\n",
       "    </tr>\n",
       "  </tbody>\n",
       "</table>\n",
       "</div>"
      ],
      "text/plain": [
       "                                             Comment Sentiment\n",
       "0  lets not forget that apple pay in 2014 require...   neutral\n",
       "1  here in nz 50 of retailers don’t even have con...  negative\n",
       "2  i will forever acknowledge this channel with t...  positive\n",
       "3  whenever i go to a place that doesn’t take app...  negative\n",
       "4  apple pay is so convenient secure and easy to ...  positive"
      ]
     },
     "execution_count": 2,
     "metadata": {},
     "output_type": "execute_result"
    }
   ],
   "source": [
    "data=pd.read_csv('D:\\projects\\Gen_Flask\\YoutubeCommentsDataSet.csv')\n",
    "data.head()"
   ]
  },
  {
   "cell_type": "code",
   "execution_count": 3,
   "metadata": {},
   "outputs": [
    {
     "name": "stdout",
     "output_type": "stream",
     "text": [
      "<class 'pandas.core.frame.DataFrame'>\n",
      "RangeIndex: 18408 entries, 0 to 18407\n",
      "Data columns (total 2 columns):\n",
      " #   Column     Non-Null Count  Dtype \n",
      "---  ------     --------------  ----- \n",
      " 0   Comment    18364 non-null  object\n",
      " 1   Sentiment  18408 non-null  object\n",
      "dtypes: object(2)\n",
      "memory usage: 287.8+ KB\n",
      "None\n"
     ]
    }
   ],
   "source": [
    "print(data.info())\n"
   ]
  },
  {
   "cell_type": "code",
   "execution_count": 4,
   "metadata": {},
   "outputs": [
    {
     "name": "stdout",
     "output_type": "stream",
     "text": [
      "After dropping missing comments: (18364, 2)\n"
     ]
    }
   ],
   "source": [
    "# Drop rows with missing comments\n",
    "data = data.dropna(subset=['Comment'])\n",
    "print(\"After dropping missing comments:\", data.shape)"
   ]
  },
  {
   "cell_type": "code",
   "execution_count": 5,
   "metadata": {},
   "outputs": [
    {
     "name": "stdout",
     "output_type": "stream",
     "text": [
      "                                             Comment  \\\n",
      "0  lets not forget that apple pay in 2014 require...   \n",
      "1  here in nz 50 of retailers don’t even have con...   \n",
      "2  i will forever acknowledge this channel with t...   \n",
      "3  whenever i go to a place that doesn’t take app...   \n",
      "4  apple pay is so convenient secure and easy to ...   \n",
      "\n",
      "                                          clean_text  \n",
      "0  lets not forget that apple pay in 2014 require...  \n",
      "1  here in nz 50 of retailers don t even have con...  \n",
      "2  i will forever acknowledge this channel with t...  \n",
      "3  whenever i go to a place that doesn t take app...  \n",
      "4  apple pay is so convenient secure and easy to ...  \n"
     ]
    }
   ],
   "source": [
    "import re\n",
    "\n",
    "def preprocess_text(text):\n",
    "    text = text.lower()  # normalize text\n",
    "    text = re.sub(r\"http\\S+|www\\S+|https\\S+\", '', text)  # remove URLs\n",
    "    text = re.sub(r'\\W', ' ', text)  # remove non-word characters\n",
    "    text = re.sub(r'\\s+', ' ', text).strip()  # remove extra spaces\n",
    "    return text\n",
    "\n",
    "# Apply preprocessing on the Comment column\n",
    "data['clean_text'] = data['Comment'].apply(preprocess_text)\n",
    "print(data[['Comment', 'clean_text']].head())\n"
   ]
  },
  {
   "cell_type": "code",
   "execution_count": 6,
   "metadata": {},
   "outputs": [
    {
     "name": "stdout",
     "output_type": "stream",
     "text": [
      "4.49.0\n",
      "1.4.0\n"
     ]
    }
   ],
   "source": [
    "import transformers\n",
    "import accelerate\n",
    "\n",
    "print(transformers.__version__)\n",
    "print(accelerate.__version__)\n"
   ]
  },
  {
   "cell_type": "code",
   "execution_count": 7,
   "metadata": {},
   "outputs": [
    {
     "name": "stderr",
     "output_type": "stream",
     "text": [
      "You are using the default legacy behaviour of the <class 'transformers.models.t5.tokenization_t5.T5Tokenizer'>. This is expected, and simply means that the `legacy` (previous) behavior will be used so nothing changes for you. If you want to use the new behaviour, set `legacy=False`. This should only be set if you understand what it means, and thoroughly read the reason why this was added as explained in https://github.com/huggingface/transformers/pull/24565\n"
     ]
    }
   ],
   "source": [
    "# Load model directly\n",
    "from transformers import AutoTokenizer, AutoModelForSeq2SeqLM\n",
    "\n",
    "tokenizer = AutoTokenizer.from_pretrained(\"mrm8488/t5-base-finetuned-emotion\")\n",
    "model = AutoModelForSeq2SeqLM.from_pretrained(\"mrm8488/t5-base-finetuned-emotion\")"
   ]
  },
  {
   "cell_type": "code",
   "execution_count": 8,
   "metadata": {},
   "outputs": [
    {
     "data": {
      "text/plain": [
       "T5ForConditionalGeneration(\n",
       "  (shared): Embedding(32128, 768)\n",
       "  (encoder): T5Stack(\n",
       "    (embed_tokens): Embedding(32128, 768)\n",
       "    (block): ModuleList(\n",
       "      (0): T5Block(\n",
       "        (layer): ModuleList(\n",
       "          (0): T5LayerSelfAttention(\n",
       "            (SelfAttention): T5Attention(\n",
       "              (q): Linear(in_features=768, out_features=768, bias=False)\n",
       "              (k): Linear(in_features=768, out_features=768, bias=False)\n",
       "              (v): Linear(in_features=768, out_features=768, bias=False)\n",
       "              (o): Linear(in_features=768, out_features=768, bias=False)\n",
       "              (relative_attention_bias): Embedding(32, 12)\n",
       "            )\n",
       "            (layer_norm): T5LayerNorm()\n",
       "            (dropout): Dropout(p=0.1, inplace=False)\n",
       "          )\n",
       "          (1): T5LayerFF(\n",
       "            (DenseReluDense): T5DenseActDense(\n",
       "              (wi): Linear(in_features=768, out_features=3072, bias=False)\n",
       "              (wo): Linear(in_features=3072, out_features=768, bias=False)\n",
       "              (dropout): Dropout(p=0.1, inplace=False)\n",
       "              (act): ReLU()\n",
       "            )\n",
       "            (layer_norm): T5LayerNorm()\n",
       "            (dropout): Dropout(p=0.1, inplace=False)\n",
       "          )\n",
       "        )\n",
       "      )\n",
       "      (1-11): 11 x T5Block(\n",
       "        (layer): ModuleList(\n",
       "          (0): T5LayerSelfAttention(\n",
       "            (SelfAttention): T5Attention(\n",
       "              (q): Linear(in_features=768, out_features=768, bias=False)\n",
       "              (k): Linear(in_features=768, out_features=768, bias=False)\n",
       "              (v): Linear(in_features=768, out_features=768, bias=False)\n",
       "              (o): Linear(in_features=768, out_features=768, bias=False)\n",
       "            )\n",
       "            (layer_norm): T5LayerNorm()\n",
       "            (dropout): Dropout(p=0.1, inplace=False)\n",
       "          )\n",
       "          (1): T5LayerFF(\n",
       "            (DenseReluDense): T5DenseActDense(\n",
       "              (wi): Linear(in_features=768, out_features=3072, bias=False)\n",
       "              (wo): Linear(in_features=3072, out_features=768, bias=False)\n",
       "              (dropout): Dropout(p=0.1, inplace=False)\n",
       "              (act): ReLU()\n",
       "            )\n",
       "            (layer_norm): T5LayerNorm()\n",
       "            (dropout): Dropout(p=0.1, inplace=False)\n",
       "          )\n",
       "        )\n",
       "      )\n",
       "    )\n",
       "    (final_layer_norm): T5LayerNorm()\n",
       "    (dropout): Dropout(p=0.1, inplace=False)\n",
       "  )\n",
       "  (decoder): T5Stack(\n",
       "    (embed_tokens): Embedding(32128, 768)\n",
       "    (block): ModuleList(\n",
       "      (0): T5Block(\n",
       "        (layer): ModuleList(\n",
       "          (0): T5LayerSelfAttention(\n",
       "            (SelfAttention): T5Attention(\n",
       "              (q): Linear(in_features=768, out_features=768, bias=False)\n",
       "              (k): Linear(in_features=768, out_features=768, bias=False)\n",
       "              (v): Linear(in_features=768, out_features=768, bias=False)\n",
       "              (o): Linear(in_features=768, out_features=768, bias=False)\n",
       "              (relative_attention_bias): Embedding(32, 12)\n",
       "            )\n",
       "            (layer_norm): T5LayerNorm()\n",
       "            (dropout): Dropout(p=0.1, inplace=False)\n",
       "          )\n",
       "          (1): T5LayerCrossAttention(\n",
       "            (EncDecAttention): T5Attention(\n",
       "              (q): Linear(in_features=768, out_features=768, bias=False)\n",
       "              (k): Linear(in_features=768, out_features=768, bias=False)\n",
       "              (v): Linear(in_features=768, out_features=768, bias=False)\n",
       "              (o): Linear(in_features=768, out_features=768, bias=False)\n",
       "            )\n",
       "            (layer_norm): T5LayerNorm()\n",
       "            (dropout): Dropout(p=0.1, inplace=False)\n",
       "          )\n",
       "          (2): T5LayerFF(\n",
       "            (DenseReluDense): T5DenseActDense(\n",
       "              (wi): Linear(in_features=768, out_features=3072, bias=False)\n",
       "              (wo): Linear(in_features=3072, out_features=768, bias=False)\n",
       "              (dropout): Dropout(p=0.1, inplace=False)\n",
       "              (act): ReLU()\n",
       "            )\n",
       "            (layer_norm): T5LayerNorm()\n",
       "            (dropout): Dropout(p=0.1, inplace=False)\n",
       "          )\n",
       "        )\n",
       "      )\n",
       "      (1-11): 11 x T5Block(\n",
       "        (layer): ModuleList(\n",
       "          (0): T5LayerSelfAttention(\n",
       "            (SelfAttention): T5Attention(\n",
       "              (q): Linear(in_features=768, out_features=768, bias=False)\n",
       "              (k): Linear(in_features=768, out_features=768, bias=False)\n",
       "              (v): Linear(in_features=768, out_features=768, bias=False)\n",
       "              (o): Linear(in_features=768, out_features=768, bias=False)\n",
       "            )\n",
       "            (layer_norm): T5LayerNorm()\n",
       "            (dropout): Dropout(p=0.1, inplace=False)\n",
       "          )\n",
       "          (1): T5LayerCrossAttention(\n",
       "            (EncDecAttention): T5Attention(\n",
       "              (q): Linear(in_features=768, out_features=768, bias=False)\n",
       "              (k): Linear(in_features=768, out_features=768, bias=False)\n",
       "              (v): Linear(in_features=768, out_features=768, bias=False)\n",
       "              (o): Linear(in_features=768, out_features=768, bias=False)\n",
       "            )\n",
       "            (layer_norm): T5LayerNorm()\n",
       "            (dropout): Dropout(p=0.1, inplace=False)\n",
       "          )\n",
       "          (2): T5LayerFF(\n",
       "            (DenseReluDense): T5DenseActDense(\n",
       "              (wi): Linear(in_features=768, out_features=3072, bias=False)\n",
       "              (wo): Linear(in_features=3072, out_features=768, bias=False)\n",
       "              (dropout): Dropout(p=0.1, inplace=False)\n",
       "              (act): ReLU()\n",
       "            )\n",
       "            (layer_norm): T5LayerNorm()\n",
       "            (dropout): Dropout(p=0.1, inplace=False)\n",
       "          )\n",
       "        )\n",
       "      )\n",
       "    )\n",
       "    (final_layer_norm): T5LayerNorm()\n",
       "    (dropout): Dropout(p=0.1, inplace=False)\n",
       "  )\n",
       "  (lm_head): Linear(in_features=768, out_features=32128, bias=False)\n",
       ")"
      ]
     },
     "execution_count": 8,
     "metadata": {},
     "output_type": "execute_result"
    }
   ],
   "source": [
    "# Move model to GPU if available\n",
    "device = torch.device(\"cuda\" if torch.cuda.is_available() else \"cpu\")\n",
    "model.to(device)"
   ]
  },
  {
   "cell_type": "code",
   "execution_count": 9,
   "metadata": {},
   "outputs": [],
   "source": [
    "# Function to predict emotion using T5 model\n",
    "def get_emotion_t5(text):\n",
    "    try:\n",
    "        input_text = f\"emotion: {text}\"\n",
    "        inputs = tokenizer(input_text, return_tensors=\"pt\", truncation=True).to(device)\n",
    "        outputs = model.generate(**inputs, max_length=10)\n",
    "        emotion = tokenizer.decode(outputs[0], skip_special_tokens=True)\n",
    "        return emotion\n",
    "    except Exception as e:\n",
    "        print(f\"Error: {e}\")\n",
    "        return \"unknown\"\n",
    "\n",
    "# Generate emotions for each comment\n",
    "data['predicted_emotion'] = data['clean_text'].apply(get_emotion_t5)\n"
   ]
  },
  {
   "cell_type": "code",
   "execution_count": 11,
   "metadata": {},
   "outputs": [
    {
     "name": "stdout",
     "output_type": "stream",
     "text": [
      "CSV file saved as 'YoutubeCommentsDataSet_with_emotion.csv'\n"
     ]
    }
   ],
   "source": [
    "# Save the updated DataFrame to a new CSV file\n",
    "data.to_csv(\"YoutubeCommentsDataSet_with_emotion.csv\", index=False)\n",
    "print(\"CSV file saved as 'YoutubeCommentsDataSet_with_emotion.csv'\")"
   ]
  },
  {
   "cell_type": "code",
   "execution_count": 12,
   "metadata": {},
   "outputs": [],
   "source": [
    "from sklearn.feature_extraction.text import TfidfVectorizer"
   ]
  },
  {
   "cell_type": "code",
   "execution_count": 13,
   "metadata": {},
   "outputs": [],
   "source": [
    "data=pd.read_csv(\"D:\\GitHub\\GenSent-AI-Powered-YouTube-Insights\\services\\YoutubeCommentsDataSet_with_emotion.csv\")\n"
   ]
  },
  {
   "cell_type": "code",
   "execution_count": 14,
   "metadata": {},
   "outputs": [
    {
     "name": "stdout",
     "output_type": "stream",
     "text": [
      "<class 'pandas.core.frame.DataFrame'>\n",
      "RangeIndex: 18364 entries, 0 to 18363\n",
      "Data columns (total 4 columns):\n",
      " #   Column             Non-Null Count  Dtype \n",
      "---  ------             --------------  ----- \n",
      " 0   Comment            18364 non-null  object\n",
      " 1   Sentiment          18364 non-null  object\n",
      " 2   clean_text         18364 non-null  object\n",
      " 3   predicted_emotion  18364 non-null  object\n",
      "dtypes: object(4)\n",
      "memory usage: 574.0+ KB\n"
     ]
    }
   ],
   "source": [
    "data.info()"
   ]
  },
  {
   "cell_type": "code",
   "execution_count": 15,
   "metadata": {},
   "outputs": [],
   "source": [
    "# Prepare data for SMOTE\n",
    "X = data['clean_text']\n",
    "y = data['predicted_emotion']\n"
   ]
  },
  {
   "cell_type": "code",
   "execution_count": 16,
   "metadata": {},
   "outputs": [],
   "source": [
    "# Encode labels\n",
    "y_encoded = pd.factorize(y)[0]"
   ]
  },
  {
   "cell_type": "code",
   "execution_count": 17,
   "metadata": {},
   "outputs": [],
   "source": [
    "from sklearn.feature_extraction.text import TfidfVectorizer\n",
    "# Convert text to numerical features using TF-IDF\n",
    "vectorizer = TfidfVectorizer(max_features=5000)\n",
    "X_tfidf = vectorizer.fit_transform(X).toarray()\n"
   ]
  },
  {
   "cell_type": "code",
   "execution_count": 18,
   "metadata": {},
   "outputs": [
    {
     "name": "stdout",
     "output_type": "stream",
     "text": [
      "0    12484\n",
      "3     2019\n",
      "2     1543\n",
      "5      926\n",
      "1      846\n",
      "4      544\n",
      "6        2\n",
      "Name: count, dtype: int64\n"
     ]
    }
   ],
   "source": [
    "print(pd.Series(y_encoded).value_counts())\n"
   ]
  },
  {
   "cell_type": "code",
   "execution_count": 20,
   "metadata": {},
   "outputs": [],
   "source": [
    "from imblearn.over_sampling import RandomOverSampler\n",
    "\n",
    "# Apply RandomOverSampler to balance classes\n",
    "ros = RandomOverSampler(random_state=42)\n",
    "X_resampled, y_resampled = ros.fit_resample(X_tfidf, y_encoded)"
   ]
  },
  {
   "cell_type": "code",
   "execution_count": 21,
   "metadata": {},
   "outputs": [],
   "source": [
    "# Decode labels back\n",
    "y_resampled_labels = pd.factorize(y)[1][y_resampled]\n"
   ]
  },
  {
   "cell_type": "code",
   "execution_count": 22,
   "metadata": {},
   "outputs": [
    {
     "name": "stdout",
     "output_type": "stream",
     "text": [
      "Step 2: RandomOverSampler balancing completed and dataset saved!\n"
     ]
    }
   ],
   "source": [
    "# Create balanced DataFrame\n",
    "balanced_data = pd.DataFrame({\n",
    "    'Comment': [' '.join(words) for words in vectorizer.inverse_transform(X_resampled)],\n",
    "    'predicted_emotion': y_resampled_labels\n",
    "})\n",
    "\n",
    "# Save balanced dataset\n",
    "balanced_data.to_csv(\"YoutubeComments_Balanced.csv\", index=False)\n",
    "\n",
    "print(\"Step 2: RandomOverSampler balancing completed and dataset saved!\")"
   ]
  },
  {
   "cell_type": "code",
   "execution_count": 23,
   "metadata": {},
   "outputs": [],
   "source": [
    "# MLP Model Definition\n",
    "class EmotionMLP(nn.Module):\n",
    "    def __init__(self, input_size, hidden_size, output_size):\n",
    "        super(EmotionMLP, self).__init__()\n",
    "        self.fc1 = nn.Linear(input_size, hidden_size)\n",
    "        self.relu = nn.ReLU()\n",
    "        self.fc2 = nn.Linear(hidden_size, output_size)\n",
    "\n",
    "    def forward(self, x):\n",
    "        x = self.fc1(x)\n",
    "        x = self.relu(x)\n",
    "        x = self.fc2(x)\n",
    "        return x\n"
   ]
  },
  {
   "cell_type": "code",
   "execution_count": 24,
   "metadata": {},
   "outputs": [],
   "source": [
    "# Prepare data for training\n",
    "X_train, X_test, y_train, y_test = train_test_split(X_resampled, y_resampled, test_size=0.2, random_state=42)\n"
   ]
  },
  {
   "cell_type": "code",
   "execution_count": 36,
   "metadata": {},
   "outputs": [],
   "source": [
    "input_size = X_train.shape[1]\n",
    "hidden_size = 512\n",
    "output_size = len(np.unique(y_resampled))\n",
    "\n",
    "mlp_model = EmotionMLP(input_size, hidden_size, output_size).to(device)\n",
    "\n",
    "# Loss and optimizer\n",
    "criterion = nn.CrossEntropyLoss()\n",
    "optimizer = optim.Adam(mlp_model.parameters(), lr=0.001)"
   ]
  },
  {
   "cell_type": "code",
   "execution_count": 37,
   "metadata": {},
   "outputs": [
    {
     "name": "stdout",
     "output_type": "stream",
     "text": [
      "Epoch [1/100], Loss: 1.9455\n",
      "Epoch [2/100], Loss: 1.9379\n",
      "Epoch [3/100], Loss: 1.9302\n",
      "Epoch [4/100], Loss: 1.9220\n",
      "Epoch [5/100], Loss: 1.9130\n",
      "Epoch [6/100], Loss: 1.9031\n",
      "Epoch [7/100], Loss: 1.8923\n",
      "Epoch [8/100], Loss: 1.8806\n",
      "Epoch [9/100], Loss: 1.8680\n",
      "Epoch [10/100], Loss: 1.8544\n",
      "Epoch [11/100], Loss: 1.8399\n",
      "Epoch [12/100], Loss: 1.8244\n",
      "Epoch [13/100], Loss: 1.8081\n",
      "Epoch [14/100], Loss: 1.7909\n",
      "Epoch [15/100], Loss: 1.7728\n",
      "Epoch [16/100], Loss: 1.7538\n",
      "Epoch [17/100], Loss: 1.7341\n",
      "Epoch [18/100], Loss: 1.7135\n",
      "Epoch [19/100], Loss: 1.6921\n",
      "Epoch [20/100], Loss: 1.6700\n",
      "Epoch [21/100], Loss: 1.6471\n",
      "Epoch [22/100], Loss: 1.6234\n",
      "Epoch [23/100], Loss: 1.5990\n",
      "Epoch [24/100], Loss: 1.5740\n",
      "Epoch [25/100], Loss: 1.5483\n",
      "Epoch [26/100], Loss: 1.5220\n",
      "Epoch [27/100], Loss: 1.4951\n",
      "Epoch [28/100], Loss: 1.4677\n",
      "Epoch [29/100], Loss: 1.4398\n",
      "Epoch [30/100], Loss: 1.4114\n",
      "Epoch [31/100], Loss: 1.3827\n",
      "Epoch [32/100], Loss: 1.3537\n",
      "Epoch [33/100], Loss: 1.3243\n",
      "Epoch [34/100], Loss: 1.2948\n",
      "Epoch [35/100], Loss: 1.2651\n",
      "Epoch [36/100], Loss: 1.2353\n",
      "Epoch [37/100], Loss: 1.2055\n",
      "Epoch [38/100], Loss: 1.1757\n",
      "Epoch [39/100], Loss: 1.1461\n",
      "Epoch [40/100], Loss: 1.1167\n",
      "Epoch [41/100], Loss: 1.0875\n",
      "Epoch [42/100], Loss: 1.0587\n",
      "Epoch [43/100], Loss: 1.0302\n",
      "Epoch [44/100], Loss: 1.0022\n",
      "Epoch [45/100], Loss: 0.9747\n",
      "Epoch [46/100], Loss: 0.9477\n",
      "Epoch [47/100], Loss: 0.9213\n",
      "Epoch [48/100], Loss: 0.8955\n",
      "Epoch [49/100], Loss: 0.8704\n",
      "Epoch [50/100], Loss: 0.8460\n",
      "Epoch [51/100], Loss: 0.8223\n",
      "Epoch [52/100], Loss: 0.7993\n",
      "Epoch [53/100], Loss: 0.7770\n",
      "Epoch [54/100], Loss: 0.7555\n",
      "Epoch [55/100], Loss: 0.7347\n",
      "Epoch [56/100], Loss: 0.7147\n",
      "Epoch [57/100], Loss: 0.6953\n",
      "Epoch [58/100], Loss: 0.6767\n",
      "Epoch [59/100], Loss: 0.6588\n",
      "Epoch [60/100], Loss: 0.6415\n",
      "Epoch [61/100], Loss: 0.6250\n",
      "Epoch [62/100], Loss: 0.6090\n",
      "Epoch [63/100], Loss: 0.5937\n",
      "Epoch [64/100], Loss: 0.5789\n",
      "Epoch [65/100], Loss: 0.5647\n",
      "Epoch [66/100], Loss: 0.5511\n",
      "Epoch [67/100], Loss: 0.5380\n",
      "Epoch [68/100], Loss: 0.5253\n",
      "Epoch [69/100], Loss: 0.5132\n",
      "Epoch [70/100], Loss: 0.5015\n",
      "Epoch [71/100], Loss: 0.4903\n",
      "Epoch [72/100], Loss: 0.4794\n",
      "Epoch [73/100], Loss: 0.4690\n",
      "Epoch [74/100], Loss: 0.4589\n",
      "Epoch [75/100], Loss: 0.4493\n",
      "Epoch [76/100], Loss: 0.4399\n",
      "Epoch [77/100], Loss: 0.4309\n",
      "Epoch [78/100], Loss: 0.4222\n",
      "Epoch [79/100], Loss: 0.4138\n",
      "Epoch [80/100], Loss: 0.4057\n",
      "Epoch [81/100], Loss: 0.3979\n",
      "Epoch [82/100], Loss: 0.3903\n",
      "Epoch [83/100], Loss: 0.3830\n",
      "Epoch [84/100], Loss: 0.3759\n",
      "Epoch [85/100], Loss: 0.3691\n",
      "Epoch [86/100], Loss: 0.3625\n",
      "Epoch [87/100], Loss: 0.3561\n",
      "Epoch [88/100], Loss: 0.3499\n",
      "Epoch [89/100], Loss: 0.3439\n",
      "Epoch [90/100], Loss: 0.3380\n",
      "Epoch [91/100], Loss: 0.3324\n",
      "Epoch [92/100], Loss: 0.3269\n",
      "Epoch [93/100], Loss: 0.3216\n",
      "Epoch [94/100], Loss: 0.3164\n",
      "Epoch [95/100], Loss: 0.3114\n",
      "Epoch [96/100], Loss: 0.3066\n",
      "Epoch [97/100], Loss: 0.3018\n",
      "Epoch [98/100], Loss: 0.2973\n",
      "Epoch [99/100], Loss: 0.2928\n",
      "Epoch [100/100], Loss: 0.2885\n"
     ]
    },
    {
     "data": {
      "image/png": "[encoded data removed]",
      "text/plain": [
       "<Figure size 640x480 with 1 Axes>"
      ]
     },
     "metadata": {},
     "output_type": "display_data"
    }
   ],
   "source": [
    "import matplotlib.pyplot as plt\n",
    "\n",
    "# List to store loss values for each epoch\n",
    "loss_values = []\n",
    "\n",
    "# Training loop\n",
    "num_epochs = 100  # Make sure this is defined correctly\n",
    "for epoch in range(num_epochs):\n",
    "    mlp_model.train()\n",
    "\n",
    "    inputs = torch.tensor(X_train, dtype=torch.float32).to(device)\n",
    "    labels = torch.tensor(y_train, dtype=torch.long).to(device)\n",
    "\n",
    "    outputs = mlp_model(inputs)\n",
    "    loss = criterion(outputs, labels)\n",
    "\n",
    "    optimizer.zero_grad()\n",
    "    loss.backward()\n",
    "    optimizer.step()\n",
    "\n",
    "    # Record the loss at each epoch\n",
    "    loss_values.append(loss.item())\n",
    "\n",
    "    print(f\"Epoch [{epoch+1}/{num_epochs}], Loss: {loss.item():.4f}\")\n",
    "\n",
    "# After training, plot the loss\n",
    "plt.plot(range(1, num_epochs + 1), loss_values, marker='o')\n",
    "plt.title('Loss per Epoch')\n",
    "plt.xlabel('Epoch')\n",
    "plt.ylabel('Loss')\n",
    "plt.grid(True)\n",
    "plt.show()\n"
   ]
  },
  {
   "cell_type": "code",
   "execution_count": 67,
   "metadata": {},
   "outputs": [],
   "source": [
    "# Evaluate the model\n",
    "mlp_model.eval()\n",
    "with torch.no_grad():\n",
    "    inputs = torch.tensor(X_test, dtype=torch.float32).to(device)\n",
    "    labels = torch.tensor(y_test, dtype=torch.long).to(device)\n",
    "\n",
    "    outputs = mlp_model(inputs)\n",
    "    predictions = torch.argmax(outputs, dim=1).cpu().numpy()\n",
    "\n",
    "\n",
    "    "
   ]
  },
  {
   "cell_type": "code",
   "execution_count": 68,
   "metadata": {},
   "outputs": [
    {
     "name": "stdout",
     "output_type": "stream",
     "text": [
      "Accuracy: 0.9177823549605219\n",
      "Classification Report:\n",
      "               precision    recall  f1-score   support\n",
      "\n",
      "           0       0.85      0.70      0.77      2439\n",
      "           1       0.93      0.98      0.96      2472\n",
      "           2       0.89      0.91      0.90      2542\n",
      "           3       0.88      0.87      0.87      2470\n",
      "           4       0.95      1.00      0.97      2470\n",
      "           5       0.91      0.95      0.93      2526\n",
      "           6       1.00      1.00      1.00      2559\n",
      "\n",
      "    accuracy                           0.92     17478\n",
      "   macro avg       0.92      0.92      0.91     17478\n",
      "weighted avg       0.92      0.92      0.92     17478\n",
      "\n"
     ]
    }
   ],
   "source": [
    "from sklearn.metrics import accuracy_score, classification_report\n",
    "print(\"Accuracy:\", accuracy_score(y_test, predictions))\n",
    "print(\"Classification Report:\\n\", classification_report(y_test, predictions))\n"
   ]
  },
  {
   "cell_type": "code",
   "execution_count": 69,
   "metadata": {},
   "outputs": [],
   "source": [
    "import os\n",
    "import pickle\n",
    "\n",
    "# Define the folder path where you want to save the model\n",
    "model_folder = \"model\"\n",
    "os.makedirs(model_folder, exist_ok=True)\n",
    "\n",
    "# Save the TF-IDF vectorizer\n",
    "with open(os.path.join(model_folder, \"tfidf_vectorizer.pkl\"), \"wb\") as f:\n",
    "    pickle.dump(vectorizer, f)\n",
    "\n",
    "# Save emotion labels\n",
    "emotion_labels = pd.factorize(y)[1]  # This is already in your code for prediction\n",
    "with open(os.path.join(model_folder, \"emotion_labels.pkl\"), \"wb\") as f:\n",
    "    pickle.dump(emotion_labels, f)\n",
    "\n",
    "# Your existing model saving code\n",
    "model_path = os.path.join(model_folder, \"emotion_mlp_model.pth\")\n",
    "torch.save(mlp_model.state_dict(), model_path)"
   ]
  },
  {
   "cell_type": "code",
   "execution_count": 70,
   "metadata": {},
   "outputs": [],
   "source": [
    "# Sample new comments\n",
    "new_comments = [\"damn you shit, you are happy now\", \"This is so boring.\", \"Amazing content, great work!\", \"I'm really sad.\"]\n",
    "\n",
    "# Preprocess the new comments\n",
    "new_comments_clean = [preprocess_text(comment) for comment in new_comments]\n",
    "\n",
    "# Transform the new comments using the trained TF-IDF vectorizer\n",
    "new_comments_tfidf = vectorizer.transform(new_comments_clean).toarray()\n"
   ]
  },
  {
   "cell_type": "code",
   "execution_count": 71,
   "metadata": {},
   "outputs": [
    {
     "name": "stdout",
     "output_type": "stream",
     "text": [
      "Comment: damn you shit, you are happy now\n",
      "Predicted Emotion: joy\n",
      "\n",
      "Comment: This is so boring.\n",
      "Predicted Emotion: sadness\n",
      "\n",
      "Comment: Amazing content, great work!\n",
      "Predicted Emotion: surprise\n",
      "\n",
      "Comment: I'm really sad.\n",
      "Predicted Emotion: sadness\n",
      "\n"
     ]
    }
   ],
   "source": [
    "# Convert to torch tensor\n",
    "inputs = torch.tensor(new_comments_tfidf, dtype=torch.float32).to(device)\n",
    "\n",
    "# Get model predictions\n",
    "with torch.no_grad():\n",
    "    outputs = mlp_model(inputs)\n",
    "    predictions = torch.argmax(outputs, dim=1).cpu().numpy()\n",
    "\n",
    "# Decode predictions back to emotion labels\n",
    "emotion_labels = pd.factorize(y)[1]  # Using the same factorized labels as before\n",
    "predicted_emotions = emotion_labels[predictions]\n",
    "\n",
    "# Display the predictions\n",
    "for comment, emotion in zip(new_comments, predicted_emotions):\n",
    "    print(f\"Comment: {comment}\\nPredicted Emotion: {emotion}\\n\")\n"
   ]
  },
  {
   "cell_type": "code",
   "execution_count": null,
   "metadata": {},
   "outputs": [],
   "source": []
  }
 ],
 "metadata": {
  "kernelspec": {
   "display_name": "Python 3",
   "language": "python",
   "name": "python3"
  },
  "language_info": {
   "codemirror_mode": {
    "name": "ipython",
    "version": 3
   },
   "file_extension": ".py",
   "mimetype": "text/x-python",
   "name": "python",
   "nbconvert_exporter": "python",
   "pygments_lexer": "ipython3",
   "version": "3.11.8"
  }
 },
 "nbformat": 4,
 "nbformat_minor": 2
}
